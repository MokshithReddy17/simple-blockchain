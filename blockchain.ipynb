{
  "nbformat": 4,
  "nbformat_minor": 0,
  "metadata": {
    "colab": {
      "provenance": [],
      "authorship_tag": "ABX9TyMMK68DgnpT8RJ/ZlOQXA/Y",
      "include_colab_link": true
    },
    "kernelspec": {
      "name": "python3",
      "display_name": "Python 3"
    },
    "language_info": {
      "name": "python"
    }
  },
  "cells": [
    {
      "cell_type": "markdown",
      "metadata": {
        "id": "view-in-github",
        "colab_type": "text"
      },
      "source": [
        "<a href=\"https://colab.research.google.com/github/MokshithReddy17/simple-blockchain/blob/main/blockchain.ipynb\" target=\"_parent\"><img src=\"https://colab.research.google.com/assets/colab-badge.svg\" alt=\"Open In Colab\"/></a>"
      ]
    },
    {
      "cell_type": "code",
      "execution_count": 2,
      "metadata": {
        "colab": {
          "base_uri": "https://localhost:8080/"
        },
        "id": "F9em7z57MjJX",
        "outputId": "b051b359-5737-4498-a616-23d8cfb3bcca"
      },
      "outputs": [
        {
          "output_type": "stream",
          "name": "stdout",
          "text": [
            "hello\n"
          ]
        }
      ],
      "source": [
        "print(\"hello\")"
      ]
    },
    {
      "cell_type": "code",
      "source": [
        "import hashlib\n",
        "import time\n",
        "import json\n",
        "\n",
        "class Block:\n",
        "    def __init__(self, index, transactions, previous_hash, nonce=0):\n",
        "        self.index = index\n",
        "        self.timestamp = time.strftime(\"%Y-%m-%d %H:%M:%S\", time.gmtime())\n",
        "        self.transactions = transactions\n",
        "        self.previous_hash = previous_hash\n",
        "        self.nonce = nonce\n",
        "        self.hash = self.compute_hash()\n",
        "\n",
        "    def compute_hash(self):\n",
        "        block_data = json.dumps({\n",
        "            \"index\": self.index,\n",
        "            \"timestamp\": self.timestamp,\n",
        "            \"transactions\": self.transactions,\n",
        "            \"previous_hash\": self.previous_hash,\n",
        "            \"nonce\": self.nonce\n",
        "        }, sort_keys=True)\n",
        "        return hashlib.sha256(block_data.encode()).hexdigest()\n",
        "    #Implementation of a basic proof-of-work mechanism\n",
        "    def mine_block(self, difficulty):\n",
        "        while self.hash[:difficulty] != \"0\" * difficulty:\n",
        "            self.nonce += 1\n",
        "            self.hash = self.compute_hash()\n",
        "        print(f\"Block {self.index} mined: {self.hash}\")\n"
      ],
      "metadata": {
        "id": "G8DSNUIxMlph"
      },
      "execution_count": 6,
      "outputs": []
    },
    {
      "cell_type": "code",
      "source": [
        "class Blockchain:\n",
        "    def __init__(self, difficulty=4):\n",
        "        self.chain = []\n",
        "        self.pending_transactions = []\n",
        "        self.difficulty = difficulty\n",
        "        self.create_genesis_block()\n",
        "\n",
        "    def create_genesis_block(self):\n",
        "        genesis_block = Block(0, [], \"0\")\n",
        "        self.chain.append(genesis_block)\n",
        "\n",
        "    def add_transaction(self, sender, receiver, amount):\n",
        "        self.pending_transactions.append({\"sender\": sender, \"receiver\": receiver, \"amount\": amount})\n",
        "\n",
        "    def add_block(self):\n",
        "        if not self.pending_transactions:\n",
        "            print(\"No transactions to add!\")\n",
        "            return\n",
        "\n",
        "        previous_block = self.chain[-1]\n",
        "        new_block = Block(len(self.chain), self.pending_transactions.copy(), previous_block.hash)\n",
        "        new_block.mine_block(self.difficulty)\n",
        "        self.chain.append(new_block)\n",
        "        self.pending_transactions.clear()\n",
        "\n",
        "    def is_valid(self):\n",
        "        for i in range(1, len(self.chain)):\n",
        "            current = self.chain[i]\n",
        "            previous = self.chain[i - 1]\n",
        "            if current.hash != current.compute_hash():\n",
        "                return False\n",
        "            if current.previous_hash != previous.hash:\n",
        "                return False\n",
        "        return True\n",
        "\n",
        "    def tamper_block(self, index, new_transactions):\n",
        "        if 0 < index < len(self.chain):\n",
        "            self.chain[index].transactions = new_transactions\n",
        "            self.chain[index].hash = self.chain[index].compute_hash()\n",
        "\n",
        "    def print_chain(self):\n",
        "        for block in self.chain:\n",
        "            print(json.dumps({\n",
        "                \"index\": block.index,\n",
        "                \"timestamp\": block.timestamp,\n",
        "                \"transactions\": block.transactions,\n",
        "                \"previous_hash\": block.previous_hash,\n",
        "                \"hash\": block.hash,\n",
        "                \"nonce\": block.nonce\n",
        "            }, indent=4))"
      ],
      "metadata": {
        "id": "ngK3qW2gk6su"
      },
      "execution_count": 7,
      "outputs": []
    },
    {
      "cell_type": "code",
      "source": [
        "blockchain = Blockchain()\n",
        "blockchain.add_transaction(\"Mokshith\", \"Vishal\", 1000)\n",
        "blockchain.add_block()\n",
        "blockchain.add_transaction(\"Vishal\", \"Sharath\", 300)\n",
        "blockchain.add_block()\n",
        "blockchain.print_chain()\n",
        "print(\"Is blockchain valid?\", blockchain.is_valid())\n",
        "\n",
        "# Checking\n",
        "blockchain.tamper_block(1, [{\"sender\": \"Ruthwik\", \"receiver\": \"Mokshith\", \"amount\": 1500}])\n",
        "print(\"Is blockchain valid after tampering?\", blockchain.is_valid())"
      ],
      "metadata": {
        "colab": {
          "base_uri": "https://localhost:8080/"
        },
        "id": "VGc0lBcQlAbR",
        "outputId": "598427a9-bd34-4f6e-fceb-c82a8959370f"
      },
      "execution_count": 8,
      "outputs": [
        {
          "output_type": "stream",
          "name": "stdout",
          "text": [
            "Block 1 mined: 00009979f62bc8435440bdba124fd43dfe145fd5f58a7fb0cec157011d1ad160\n",
            "Block 2 mined: 0000717089bcdc8fe55d6ec9b4fab507a0be90505dc40609a0aa67c9ee1b58ff\n",
            "{\n",
            "    \"index\": 0,\n",
            "    \"timestamp\": \"2025-02-10 15:59:35\",\n",
            "    \"transactions\": [],\n",
            "    \"previous_hash\": \"0\",\n",
            "    \"hash\": \"60c311be1bdcb3ddd1af3d249c527bf4c6ceba64df3273faac9d1a2df3c60aca\",\n",
            "    \"nonce\": 0\n",
            "}\n",
            "{\n",
            "    \"index\": 1,\n",
            "    \"timestamp\": \"2025-02-10 15:59:35\",\n",
            "    \"transactions\": [\n",
            "        {\n",
            "            \"sender\": \"Mokshith\",\n",
            "            \"receiver\": \"Vishal\",\n",
            "            \"amount\": 1000\n",
            "        }\n",
            "    ],\n",
            "    \"previous_hash\": \"60c311be1bdcb3ddd1af3d249c527bf4c6ceba64df3273faac9d1a2df3c60aca\",\n",
            "    \"hash\": \"00009979f62bc8435440bdba124fd43dfe145fd5f58a7fb0cec157011d1ad160\",\n",
            "    \"nonce\": 5413\n",
            "}\n",
            "{\n",
            "    \"index\": 2,\n",
            "    \"timestamp\": \"2025-02-10 15:59:35\",\n",
            "    \"transactions\": [\n",
            "        {\n",
            "            \"sender\": \"Vishal\",\n",
            "            \"receiver\": \"Sharath\",\n",
            "            \"amount\": 300\n",
            "        }\n",
            "    ],\n",
            "    \"previous_hash\": \"00009979f62bc8435440bdba124fd43dfe145fd5f58a7fb0cec157011d1ad160\",\n",
            "    \"hash\": \"0000717089bcdc8fe55d6ec9b4fab507a0be90505dc40609a0aa67c9ee1b58ff\",\n",
            "    \"nonce\": 78887\n",
            "}\n",
            "Is blockchain valid? True\n",
            "Is blockchain valid after tampering? False\n"
          ]
        }
      ]
    }
  ]
}